{
 "cells": [
  {
   "cell_type": "code",
   "execution_count": null,
   "id": "a8e2baa7",
   "metadata": {},
   "outputs": [],
   "source": [
    "#SPRINT 1 ASSIGNMENT BY BENEDICTA NWACHUKWU"
   ]
  },
  {
   "cell_type": "code",
   "execution_count": null,
   "id": "53f46914",
   "metadata": {},
   "outputs": [],
   "source": [
    "#James is embarking on a journey with the following items in the trunk of his car;"
   ]
  },
  {
   "cell_type": "code",
   "execution_count": null,
   "id": "4c5f76d6",
   "metadata": {},
   "outputs": [],
   "source": [
    "#variables for each of these items"
   ]
  },
  {
   "cell_type": "code",
   "execution_count": null,
   "id": "1e825839",
   "metadata": {},
   "outputs": [],
   "source": [
    "packs_of_bottle_water = 14       #14 packs of bottled water\n",
    "packed_suite_cases = 2           #2 packed suite cases\n",
    "golf_kit = 1                     #One golf kit\n",
    "golf_clubs = 24                  #24 golf clubs"
   ]
  },
  {
   "cell_type": "code",
   "execution_count": null,
   "id": "78cdfd95",
   "metadata": {},
   "outputs": [],
   "source": [
    "#For each of the following code block, show what is wrong with the code:"
   ]
  },
  {
   "cell_type": "code",
   "execution_count": null,
   "id": "ddb1be59",
   "metadata": {},
   "outputs": [],
   "source": [
    "vehicleSpeed  =  35kph        #35kph is alphanumeric and it is a text string. \n",
    "                            #if you print, there will be an error message because the vaule should be enclosed in quotes\n",
    "                            #it should be \"35kph\""
   ]
  },
  {
   "cell_type": "code",
   "execution_count": null,
   "id": "92674322",
   "metadata": {},
   "outputs": [],
   "source": [
    "studentWeight = 75 kg      #there will be an error message becase of the white space in between 75 and kg, and it should be in\n",
    "                           #quotes too\n",
    "                           #it should read \"75kg\" instead  "
   ]
  },
  {
   "cell_type": "code",
   "execution_count": null,
   "id": "fe5aa7ca",
   "metadata": {},
   "outputs": [],
   "source": [
    "happiness  Rating = ‘Very Happy’   #there is an error here in the variable name declaration, there should not be spacing when\n",
    "                                   #when declaring a variable name.\n",
    "                                   #it should be happinessRating, or happines_rating"
   ]
  },
  {
   "cell_type": "code",
   "execution_count": null,
   "id": "063582fa",
   "metadata": {},
   "outputs": [],
   "source": [
    "count, subcount = 45               #two variables names cannot be assigned to one value with one declaration\n",
    "                                #so there will be an error\n",
    "                                 #it should be count = 45   subcount = 45"
   ]
  },
  {
   "cell_type": "code",
   "execution_count": null,
   "id": "269cfb9b",
   "metadata": {},
   "outputs": [],
   "source": [
    "#You are given the following information about  7 students in a class;"
   ]
  },
  {
   "cell_type": "code",
   "execution_count": null,
   "id": "c8ecbd76",
   "metadata": {},
   "outputs": [],
   "source": [
    "#Organize this information using variables\n",
    "#Create Lists to hold all the student information"
   ]
  },
  {
   "cell_type": "code",
   "execution_count": null,
   "id": "9a7a6c89",
   "metadata": {},
   "outputs": [],
   "source": [
    "#rowland brooks\n",
    "Age = 13\n",
    "Marital_status = 'single'\n",
    "Number_children = 4\n",
    "\n",
    "#tambe bwali\n",
    "Age = 27\n",
    "Marital_status = 'Married'\n",
    "Number_children = 6\n",
    "\n",
    "#bitrus yagi\n",
    "Age = 40\n",
    "Marital_status = 'Married'\n",
    "Number_children = 2\n",
    "\n",
    "#kofi kwame\n",
    "Age = 51\n",
    "Marital_status = 'Single'\n",
    "Number_children = 7\n",
    "\n",
    "#butuwase nglesi\n",
    "Age = 38\n",
    "Marital_status = 'Single'\n",
    "Number_children = 0\n",
    "\n",
    "#peter okafor\n",
    "Age = 33\n",
    "Marital_status = 'Married'\n",
    "Number_children = 3\n",
    "\n",
    "#adebo babalaki\n",
    "Age = 51\n",
    "Marital_status = 'Divorced'\n",
    "Number_children = 9"
   ]
  },
  {
   "cell_type": "code",
   "execution_count": null,
   "id": "54656a34",
   "metadata": {},
   "outputs": [],
   "source": [
    "rowland_brooks = [30,\"Single\",4]                       #Rowland Brooks: Age 30, marital status: Single, Number of children 4\n",
    "tambe_bwali = [27,\"Married\",6]                         #Tambe Bwali: Age 27, marital status: Married, Number of children 6\n",
    "bitrus_yagi = [40,\"Married\",2]                     #Bitrus Yagi: Age 40, marital status: Married, Number of children 2\n",
    "kofi_kwame = [51,\"Single\",7]                       #Kofi Kwame: Age 51, marital status: Single, Number of children 7\n",
    "butuwase_nglesi = [38,\"Single\",0]                 #Butuwase Nglesi: Age 38, marital status: Single, Number of children 0\n",
    "peter_okafor = [33,\"Married\",3]                #Peter Okafor: Age 33, marital status: Married, Number of children 3\n",
    "adebo_babalaki = [51,\"Divorced\",9]             #Adebo Babalaki: Age 51, marital status: Divorced, Number of children 9"
   ]
  },
  {
   "cell_type": "code",
   "execution_count": null,
   "id": "677dc4c0",
   "metadata": {},
   "outputs": [],
   "source": [
    "students_name = ['Rowland','Tambe','Biturs','Kofi','Butuwase','Peter','Adebo']\n",
    "students_age = [30,27,40,51,38,33,51]\n",
    "students_marital_statuses = ['Single','Married','Married','Single','Single','Married','Divorced']\n",
    "students_num_of_children = [4,6,2,7,0,9]"
   ]
  },
  {
   "cell_type": "code",
   "execution_count": 8,
   "id": "8be28f75",
   "metadata": {},
   "outputs": [
    {
     "name": "stdout",
     "output_type": "stream",
     "text": [
      "4700.0\n"
     ]
    }
   ],
   "source": [
    "#Manddels monthly earning\n",
    "\n",
    "mandel_earnings = 12000\n",
    "    \n",
    "#Mandel savings \n",
    "\n",
    "mandel_savings = 0.5*mandel_earnings\n",
    "    \n",
    "#Mandel Debts\n",
    "ngelesi = 300\n",
    "belinda = 500\n",
    "unpaid_bills = 3000\n",
    "total_debts = ngelesi + belinda + unpaid_bills\n",
    "\n",
    "#received debts\n",
    "\n",
    "nathan = 2500\n",
    "    \n",
    "total_expenses = mandel_savings + total_debts\n",
    "\n",
    "cash_remaining = mandel_earnings - total_expenses\n",
    "\n",
    "cash_at_hand = cash_remaining + nathan\n",
    "    \n",
    "print(cash_at_hand)"
   ]
  },
  {
   "cell_type": "code",
   "execution_count": null,
   "id": "bdc3c54a",
   "metadata": {},
   "outputs": [],
   "source": []
  }
 ],
 "metadata": {
  "kernelspec": {
   "display_name": "Python 3 (ipykernel)",
   "language": "python",
   "name": "python3"
  },
  "language_info": {
   "codemirror_mode": {
    "name": "ipython",
    "version": 3
   },
   "file_extension": ".py",
   "mimetype": "text/x-python",
   "name": "python",
   "nbconvert_exporter": "python",
   "pygments_lexer": "ipython3",
   "version": "3.9.7"
  }
 },
 "nbformat": 4,
 "nbformat_minor": 5
}
